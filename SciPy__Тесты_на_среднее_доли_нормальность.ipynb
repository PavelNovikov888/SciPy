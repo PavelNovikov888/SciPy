{
  "nbformat": 4,
  "nbformat_minor": 0,
  "metadata": {
    "colab": {
      "provenance": [],
      "authorship_tag": "ABX9TyPnm0CkyaHo5KrTAqJfruZR",
      "include_colab_link": true
    },
    "kernelspec": {
      "name": "python3",
      "display_name": "Python 3"
    },
    "language_info": {
      "name": "python"
    }
  },
  "cells": [
    {
      "cell_type": "markdown",
      "metadata": {
        "id": "view-in-github",
        "colab_type": "text"
      },
      "source": [
        "<a href=\"https://colab.research.google.com/github/PavelNovikov888/SciPy/blob/master/SciPy__%D0%A2%D0%B5%D1%81%D1%82%D1%8B_%D0%BD%D0%B0_%D1%81%D1%80%D0%B5%D0%B4%D0%BD%D0%B5%D0%B5_%D0%B4%D0%BE%D0%BB%D0%B8_%D0%BD%D0%BE%D1%80%D0%BC%D0%B0%D0%BB%D1%8C%D0%BD%D0%BE%D1%81%D1%82%D1%8C.ipynb\" target=\"_parent\"><img src=\"https://colab.research.google.com/assets/colab-badge.svg\" alt=\"Open In Colab\"/></a>"
      ]
    },
    {
      "cell_type": "code",
      "source": [
        "import numpy as np\n",
        "from scipy import stats"
      ],
      "metadata": {
        "id": "cBqDxpLFrmBW"
      },
      "execution_count": null,
      "outputs": []
    },
    {
      "cell_type": "markdown",
      "source": [
        "# НАЧНЁМ С ОДНОВЫБОРОЧНЫХ ТЕСТОВ\n",
        "\n",
        "Помним, что данные должны приходить из нормального распределения.   \n",
        "Сгенерируем множество точек из нормального распределения (для воспроизводимости зафиксируем random state) со средним, равным 5, и стандартным отклонением, равным 2."
      ],
      "metadata": {
        "id": "i6GPinI5ru1N"
      }
    },
    {
      "cell_type": "code",
      "source": [
        "np.random.seed(13)\n",
        "random_normal = np.random.normal(5, 2, 100)\n",
        "random_bin = np.random.choice([0, 1], size=(100,), p=[0.8, 0.2])"
      ],
      "metadata": {
        "id": "MvHjrWeUr4GF"
      },
      "execution_count": null,
      "outputs": []
    },
    {
      "cell_type": "code",
      "source": [
        "random_normal[:20]"
      ],
      "metadata": {
        "colab": {
          "base_uri": "https://localhost:8080/"
        },
        "id": "_FNHnns3sQvN",
        "outputId": "e6ebec2f-3d5a-428f-e587-c57c0d815726"
      },
      "execution_count": null,
      "outputs": [
        {
          "output_type": "execute_result",
          "data": {
            "text/plain": [
              "array([3.57521868, 6.50753276, 4.91099384, 5.90362468, 7.69020342,\n",
              "       6.06467578, 7.7003758 , 6.72242275, 7.95737147, 2.90924574,\n",
              "       3.42202195, 2.47678811, 6.12569357, 4.5133475 , 6.82748141,\n",
              "       5.63470185, 5.25460656, 9.30076593, 6.21257731, 4.9464567 ])"
            ]
          },
          "metadata": {},
          "execution_count": 27
        }
      ]
    },
    {
      "cell_type": "code",
      "source": [
        "random_bin[:20]"
      ],
      "metadata": {
        "colab": {
          "base_uri": "https://localhost:8080/"
        },
        "id": "CawDGtV9sbgO",
        "outputId": "bb67af30-85f6-4661-a6fb-cc43b02725ef"
      },
      "execution_count": null,
      "outputs": [
        {
          "output_type": "execute_result",
          "data": {
            "text/plain": [
              "array([0, 0, 0, 0, 0, 0, 0, 0, 0, 0, 0, 0, 0, 0, 1, 0, 0, 1, 1, 1])"
            ]
          },
          "metadata": {},
          "execution_count": 28
        }
      ]
    },
    {
      "cell_type": "markdown",
      "source": [
        "Проверим гипотезу, что среднее выборки, сгенерированной из нормального распределения, равно 0:"
      ],
      "metadata": {
        "id": "OxbV18tJsCsu"
      }
    },
    {
      "cell_type": "code",
      "source": [
        "stats.ttest_1samp(random_normal, 0.0)"
      ],
      "metadata": {
        "colab": {
          "base_uri": "https://localhost:8080/"
        },
        "id": "vaD4sB60sEVj",
        "outputId": "6c375aa9-6d89-47a3-bd9c-a6571d3443ff"
      },
      "execution_count": null,
      "outputs": [
        {
          "output_type": "execute_result",
          "data": {
            "text/plain": [
              "TtestResult(statistic=27.315846581411247, pvalue=6.762242033211871e-48, df=99)"
            ]
          },
          "metadata": {},
          "execution_count": 29
        }
      ]
    },
    {
      "cell_type": "markdown",
      "source": [
        "По результату мы видим, что p_value= 6.762242033211871e-48, соответственно, гипотеза о равенстве среднего нулю отвергается на уровне значимости 0.01 (вообще говоря, почти на любом уровне значимости).  \n",
        "Теперь проверим против 5.0"
      ],
      "metadata": {
        "id": "YvGPT7lktm-b"
      }
    },
    {
      "cell_type": "code",
      "source": [
        "stats.ttest_1samp(random_normal, 5.0)"
      ],
      "metadata": {
        "colab": {
          "base_uri": "https://localhost:8080/"
        },
        "id": "Vd5rEaWgtyNW",
        "outputId": "83e1e3d2-7607-4f65-a443-cc7ab26386e5"
      },
      "execution_count": null,
      "outputs": [
        {
          "output_type": "execute_result",
          "data": {
            "text/plain": [
              "TtestResult(statistic=0.6236095710595042, pvalue=0.5343182132984923, df=99)"
            ]
          },
          "metadata": {},
          "execution_count": 30
        }
      ]
    },
    {
      "cell_type": "markdown",
      "source": [
        "Мы видим, что гипотеза о равенстве 5 принимается с p_value=0.53.  \n",
        "Проведём тест на равенство доли единиц во второй выборке 0.5"
      ],
      "metadata": {
        "id": "IoICK4Dju-nc"
      }
    },
    {
      "cell_type": "code",
      "source": [
        "stats.binom_test(x=[sum(random_bin), len(random_bin) - sum(random_bin)], p=0.5)"
      ],
      "metadata": {
        "colab": {
          "base_uri": "https://localhost:8080/"
        },
        "id": "0ek9GOVfvEl5",
        "outputId": "ebc144d8-8ef0-48e3-eb6c-908f809e6c04"
      },
      "execution_count": null,
      "outputs": [
        {
          "output_type": "stream",
          "name": "stderr",
          "text": [
            "<ipython-input-31-634c4775c427>:1: DeprecationWarning: 'binom_test' is deprecated in favour of 'binomtest' from version 1.7.0 and will be removed in Scipy 1.12.0.\n",
            "  stats.binom_test(x=[sum(random_bin), len(random_bin) - sum(random_bin)], p=0.5)\n"
          ]
        },
        {
          "output_type": "execute_result",
          "data": {
            "text/plain": [
              "1.1159089057251951e-09"
            ]
          },
          "metadata": {},
          "execution_count": 31
        }
      ]
    },
    {
      "cell_type": "markdown",
      "source": [
        "Заметим, что x = [число позитивных действий, число фейлов]. Видим, что гипотеза отвергается практически на любом уровне значимости с p_value=1.115908905725195e-09."
      ],
      "metadata": {
        "id": "EYc-lI5evTK-"
      }
    },
    {
      "cell_type": "code",
      "source": [
        "stats.binom_test(x=[sum(random_bin), len(random_bin) - sum(random_bin)], p=0.2)"
      ],
      "metadata": {
        "colab": {
          "base_uri": "https://localhost:8080/"
        },
        "id": "ZZDqzqEjvdI6",
        "outputId": "c1e01489-d478-47b1-98ff-3f321c65fba5"
      },
      "execution_count": null,
      "outputs": [
        {
          "output_type": "stream",
          "name": "stderr",
          "text": [
            "<ipython-input-32-7c390d65063e>:1: DeprecationWarning: 'binom_test' is deprecated in favour of 'binomtest' from version 1.7.0 and will be removed in Scipy 1.12.0.\n",
            "  stats.binom_test(x=[sum(random_bin), len(random_bin) - sum(random_bin)], p=0.2)\n"
          ]
        },
        {
          "output_type": "execute_result",
          "data": {
            "text/plain": [
              "1.0"
            ]
          },
          "metadata": {},
          "execution_count": 32
        }
      ]
    },
    {
      "cell_type": "markdown",
      "source": [
        "Гипотеза не отвергается.\n",
        "\n",
        "# А ТЕПЕРЬ — ДВУХВЫБОРОЧНЫЙ ТЕСТ!\n",
        "\n",
        "Мы увидели, что проводить статистический тест со SciPy просто!  \n",
        "Давайте теперь проделаем то же самое со множественной проверкой гипотез.\n",
        "\n",
        "Сгенерируем множества точек:"
      ],
      "metadata": {
        "id": "0SpcwlVsvjPv"
      }
    },
    {
      "cell_type": "code",
      "source": [
        "random_normal_5 = np.random.normal(5, 2, 100)\n",
        "random_normal_false = np.random.normal(7, 2, 100)\n",
        "print(random_normal_5[:20])\n",
        "print(random_normal_false[:20])"
      ],
      "metadata": {
        "colab": {
          "base_uri": "https://localhost:8080/"
        },
        "id": "7kJhTk3CvifV",
        "outputId": "9effd4be-3d5e-4a51-cec3-cd4ca9686d78"
      },
      "execution_count": null,
      "outputs": [
        {
          "output_type": "stream",
          "name": "stdout",
          "text": [
            "[3.84431669 3.31665693 3.89319476 4.51698938 6.52446165 4.49496482\n",
            " 5.58328102 4.22068895 5.9503754  4.85527368 7.5381162  5.51449801\n",
            " 1.67148713 4.75650713 4.11697554 6.91049338 5.03994184 6.72563379\n",
            " 6.48709049 3.67483767]\n",
            "[ 6.67745209  7.89903303  2.34614758  6.16837727 12.18416813  7.74953623\n",
            "  8.99904773  7.67824334  6.30156172  8.68768411  8.48380136  6.29600636\n",
            "  6.61900843  8.34454424  5.4006256   5.31061511  9.34455485  9.29812638\n",
            "  6.61239016 10.13328045]\n"
          ]
        }
      ]
    },
    {
      "cell_type": "markdown",
      "source": [
        "Проверим двухвыборочными тестами:"
      ],
      "metadata": {
        "id": "t6S7wyQQws2j"
      }
    },
    {
      "cell_type": "code",
      "source": [
        "print(stats.ttest_ind(random_normal_5, random_normal))\n",
        "print(stats.ttest_ind(random_normal_false, random_normal))"
      ],
      "metadata": {
        "id": "tjgt9l4iwxmm",
        "outputId": "d642ae43-33e9-4789-f477-350d66ac9310",
        "colab": {
          "base_uri": "https://localhost:8080/"
        }
      },
      "execution_count": null,
      "outputs": [
        {
          "output_type": "stream",
          "name": "stdout",
          "text": [
            "TtestResult(statistic=-1.109776693013421, pvalue=0.2684412714449198, df=198.0)\n",
            "TtestResult(statistic=7.56418694452888, pvalue=1.4333446457467145e-12, df=198.0)\n"
          ]
        }
      ]
    },
    {
      "cell_type": "markdown",
      "source": [
        "Видим, что в первом случае нулевая гипотеза не отвергается, а во втором — отвергается."
      ],
      "metadata": {
        "id": "ZArlAbVuyn8l"
      }
    },
    {
      "cell_type": "markdown",
      "source": [
        "# ТЕСТ НА РАВЕНСТВО ДОЛЕЙ\n",
        " Тест на равенство пропорций (долей) в SciPy не реализован, поэтому придётся обратиться к другому пакету — statsmodels."
      ],
      "metadata": {
        "id": "XaEDibmky6GT"
      }
    },
    {
      "cell_type": "code",
      "source": [
        "from statsmodels.stats.proportion import proportions_ztest"
      ],
      "metadata": {
        "id": "kTTKEWR1zMrp"
      },
      "execution_count": null,
      "outputs": []
    },
    {
      "cell_type": "markdown",
      "source": [
        "И снова сгенерируем бинарные выборки:"
      ],
      "metadata": {
        "id": "AoS3rGyp0c9k"
      }
    },
    {
      "cell_type": "code",
      "source": [
        "random_bin_2 = np.random.choice([0, 1], size=(100,), p=[0.8, 0.2])\n",
        "random_bin_false = np.random.choice([0, 1], size=(100,), p=[0.6, 0.4])"
      ],
      "metadata": {
        "id": "atdDam_IzNqc"
      },
      "execution_count": null,
      "outputs": []
    },
    {
      "cell_type": "markdown",
      "source": [
        "Посмотрим на результат применения теста:"
      ],
      "metadata": {
        "id": "YqFJKgnC0kdp"
      }
    },
    {
      "cell_type": "code",
      "source": [
        "print(proportions_ztest(count=[sum(random_bin), sum(random_bin_2)], nobs=[len(random_bin), len(random_bin_2)]))\n",
        "print(proportions_ztest(count=[sum(random_bin), sum(random_bin_false)], nobs=[len(random_bin), len(random_bin_false)]))"
      ],
      "metadata": {
        "colab": {
          "base_uri": "https://localhost:8080/"
        },
        "id": "045_Vugz0nvA",
        "outputId": "2dc189b0-867b-4d1e-b269-bd19dd653801"
      },
      "execution_count": null,
      "outputs": [
        {
          "output_type": "stream",
          "name": "stdout",
          "text": [
            "(-0.5163595320566151, 0.6056033242983083)\n",
            "(-2.5197631533948477, 0.011743382301172597)\n"
          ]
        }
      ]
    },
    {
      "cell_type": "markdown",
      "source": [
        "Первое число — значение статистики, второе — p_value. Видим, что результаты совпадают с ожидаемыми.\n",
        "\n"
      ],
      "metadata": {
        "id": "FPaHPZEp03vp"
      }
    },
    {
      "cell_type": "markdown",
      "source": [
        "Обратим внимание, что в сам тест мы передаём не выборки, а только число положительных событий и общее число событий."
      ],
      "metadata": {
        "id": "oKRFJtzt1FKx"
      }
    },
    {
      "cell_type": "markdown",
      "source": [
        "**Задание:** Какое значение p_value * 10**7 получается при проведении теста равенства доли 0.1 по выборке, сгенерированной кодом ниже (округлите до двух знаков после запятой)?"
      ],
      "metadata": {
        "id": "38zaEzuy1cfw"
      }
    },
    {
      "cell_type": "code",
      "source": [
        "np.random.seed(13)\n",
        "random_bin = np.random.choice([0, 1], size=(100,), p=[0.7, 0.3])"
      ],
      "metadata": {
        "id": "_Wmx4ufF1ppK"
      },
      "execution_count": null,
      "outputs": []
    },
    {
      "cell_type": "code",
      "source": [
        "stats.binom_test(x=[sum(random_bin), len(random_bin) - sum(random_bin)], p=0.1)"
      ],
      "metadata": {
        "colab": {
          "base_uri": "https://localhost:8080/"
        },
        "id": "huVNjGVe1y8Y",
        "outputId": "7ce80970-4d34-44ad-9b9f-7609105a3676"
      },
      "execution_count": null,
      "outputs": [
        {
          "output_type": "stream",
          "name": "stderr",
          "text": [
            "<ipython-input-39-549470061014>:1: DeprecationWarning: 'binom_test' is deprecated in favour of 'binomtest' from version 1.7.0 and will be removed in Scipy 1.12.0.\n",
            "  stats.binom_test(x=[sum(random_bin), len(random_bin) - sum(random_bin)], p=0.1)\n"
          ]
        },
        {
          "output_type": "execute_result",
          "data": {
            "text/plain": [
              "3.481426687624852e-07"
            ]
          },
          "metadata": {},
          "execution_count": 39
        }
      ]
    },
    {
      "cell_type": "markdown",
      "source": [
        "**Задание:**\n",
        "Какое значение статистики получается при проведении теста равенства средних 3 по выборке, сгенерированной кодом ниже (округлите до двух знаков после запятой)?"
      ],
      "metadata": {
        "id": "0-Dx0LyC2iCY"
      }
    },
    {
      "cell_type": "code",
      "source": [
        "np.random.seed(21)\n",
        "random_normal = np.random.normal(18, 20, 100)\n",
        "\n",
        "stats.ttest_1samp(random_normal, 3.0)"
      ],
      "metadata": {
        "colab": {
          "base_uri": "https://localhost:8080/"
        },
        "id": "zsnfaLoi21uw",
        "outputId": "025ee666-b8ac-4e21-af9a-5b629684ed17"
      },
      "execution_count": null,
      "outputs": [
        {
          "output_type": "execute_result",
          "data": {
            "text/plain": [
              "TtestResult(statistic=7.974042103707906, pvalue=2.7279794218267574e-12, df=99)"
            ]
          },
          "metadata": {},
          "execution_count": 41
        }
      ]
    },
    {
      "cell_type": "markdown",
      "source": [
        "**Задание:**\n",
        "На каких уровнях значимости отвергается гипотеза равенства среднего 7 по выборке, сгенерированной кодом ниже:"
      ],
      "metadata": {
        "id": "mAQoOfJT3as1"
      }
    },
    {
      "cell_type": "code",
      "source": [
        "np.random.seed(21)\n",
        "random_normal = np.random.normal(18, 20, 10)\n",
        "stats.ttest_1samp(random_normal, 7.0)"
      ],
      "metadata": {
        "colab": {
          "base_uri": "https://localhost:8080/"
        },
        "id": "4U2-OHab3py_",
        "outputId": "dc2cbfd8-a637-4783-dd0a-3b1e780039c4"
      },
      "execution_count": null,
      "outputs": [
        {
          "output_type": "execute_result",
          "data": {
            "text/plain": [
              "TtestResult(statistic=1.6748822466424405, pvalue=0.12827924668031368, df=9)"
            ]
          },
          "metadata": {},
          "execution_count": 43
        }
      ]
    },
    {
      "cell_type": "markdown",
      "source": [
        "# ТЕСТЫ НА НОРМАЛЬНОСТЬ"
      ],
      "metadata": {
        "id": "7WM-YxqlOFfr"
      }
    },
    {
      "cell_type": "code",
      "source": [
        "import numpy as np\n",
        "from scipy import stats"
      ],
      "metadata": {
        "id": "Chp9mvy-OMyR"
      },
      "execution_count": null,
      "outputs": []
    },
    {
      "cell_type": "code",
      "source": [
        "np.random.seed(13)\n",
        "random_normal = np.random.normal(5, 2, 100)\n",
        "random_uniform = np.random.uniform(0, 1, 100)"
      ],
      "metadata": {
        "id": "_c4XiUGLORfX"
      },
      "execution_count": null,
      "outputs": []
    },
    {
      "cell_type": "markdown",
      "source": [
        "Проведём тест на нормальность сгенерированных распределений:"
      ],
      "metadata": {
        "id": "ISxqv4IgOX0D"
      }
    },
    {
      "cell_type": "code",
      "source": [
        "# критерий Шапиро-Уилка\n",
        "print(stats.shapiro(random_normal))\n",
        "print(stats.shapiro(random_uniform))"
      ],
      "metadata": {
        "colab": {
          "base_uri": "https://localhost:8080/"
        },
        "id": "g4m95D6fOZo8",
        "outputId": "ed9b6d0d-1c9a-40a5-848e-a515cdd22600"
      },
      "execution_count": null,
      "outputs": [
        {
          "output_type": "stream",
          "name": "stdout",
          "text": [
            "ShapiroResult(statistic=0.9897642135620117, pvalue=0.6455513834953308)\n",
            "ShapiroResult(statistic=0.9223212599754333, pvalue=1.8729009752860293e-05)\n"
          ]
        }
      ]
    },
    {
      "cell_type": "markdown",
      "source": [
        "В первом случае распределение нормальное.   \n",
        "\n",
        "Во втором случае нулевая гипотеза (нормальность распределения, из которого приходят точки) отвергается практически на любом уровне значимости."
      ],
      "metadata": {
        "id": "46F9y7VJPMfI"
      }
    },
    {
      "cell_type": "markdown",
      "source": [
        "Для теста Колмогорова-Смирнова необходимо передавать распределение, относительно которого происходит сравнение.\n"
      ],
      "metadata": {
        "id": "NjxPnH7GPZSU"
      }
    },
    {
      "cell_type": "code",
      "source": [
        "print(stats.kstest(random_normal, 'norm'))\n",
        "print(stats.kstest(random_uniform, 'norm'))"
      ],
      "metadata": {
        "colab": {
          "base_uri": "https://localhost:8080/"
        },
        "id": "RZUaHHWWPflO",
        "outputId": "df1c5c2e-4a38-46e7-c851-a2aeb35b61e0"
      },
      "execution_count": null,
      "outputs": [
        {
          "output_type": "stream",
          "name": "stdout",
          "text": [
            "KstestResult(statistic=0.933371471007256, pvalue=4.646377515900965e-118, statistic_location=2.476788109361862, statistic_sign=-1)\n",
            "KstestResult(statistic=0.5039276991503323, pvalue=4.926235881910341e-24, statistic_location=0.00984544079968852, statistic_sign=-1)\n"
          ]
        }
      ]
    },
    {
      "cell_type": "markdown",
      "source": [
        "Мы видим, что в обоих случаях гипотеза о нормальности распределения отвергается.  \n",
        "\n",
        "Почему? Потому что происходит сравнение с нормальным распределением со средним 0 и дисперсией 1.   \n",
        "\n",
        "Проверим это, нормализовав входное множество точек."
      ],
      "metadata": {
        "id": "4ySN2TAqPtyk"
      }
    },
    {
      "cell_type": "code",
      "source": [
        "print(stats.kstest((random_normal - np.mean(random_normal)) / np.std(random_normal), 'norm'))"
      ],
      "metadata": {
        "colab": {
          "base_uri": "https://localhost:8080/"
        },
        "id": "cBC--QYJP7ws",
        "outputId": "b1b2268f-4c32-40f2-dabc-4a932e167423"
      },
      "execution_count": null,
      "outputs": [
        {
          "output_type": "stream",
          "name": "stdout",
          "text": [
            "KstestResult(statistic=0.06562034353090856, pvalue=0.7572142037683822, statistic_location=-0.40053934145643744, statistic_sign=1)\n"
          ]
        }
      ]
    },
    {
      "cell_type": "markdown",
      "source": [
        "Задание:\n",
        "Чему равно p_value проверки на нормальность данных, сгенерированных следующим образом, тестом Шапиро-Уилка? Ответ округлите до второго знака после запятой.\n",
        "\n"
      ],
      "metadata": {
        "id": "wSCrH_a3QUQG"
      }
    },
    {
      "cell_type": "code",
      "source": [
        "np.random.seed(2)\n",
        "random_normal = np.random.normal(2, 4, 10)\n",
        "\n",
        "print(stats.shapiro(random_normal))"
      ],
      "metadata": {
        "colab": {
          "base_uri": "https://localhost:8080/"
        },
        "id": "FsKvKzt5QdeL",
        "outputId": "15840103-3f50-4ab4-cee3-a3d81cb1da60"
      },
      "execution_count": null,
      "outputs": [
        {
          "output_type": "stream",
          "name": "stdout",
          "text": [
            "ShapiroResult(statistic=0.9548439383506775, pvalue=0.7258638739585876)\n"
          ]
        }
      ]
    },
    {
      "cell_type": "markdown",
      "source": [
        "Задание: Чему равно p_value проверки на нормальность данных, сгенерированных следующим образом, тестом Колмогорова-Смирнова без нормализации? Ответ округлите до второго знака после запятой."
      ],
      "metadata": {
        "id": "s6KIEebeQ50G"
      }
    },
    {
      "cell_type": "code",
      "source": [
        "np.random.seed(2)\n",
        "random_normal = np.random.normal(2, 4, 10)\n",
        "\n",
        "print(stats.kstest(random_normal, 'norm'))"
      ],
      "metadata": {
        "colab": {
          "base_uri": "https://localhost:8080/"
        },
        "id": "dYUC83I3Q_Ts",
        "outputId": "d12cccbd-a6ad-4243-d4a1-90006d181930"
      },
      "execution_count": null,
      "outputs": [
        {
          "output_type": "stream",
          "name": "stdout",
          "text": [
            "KstestResult(statistic=0.514185695796664, pvalue=0.005575825333255893, statistic_location=-1.366989462624816, statistic_sign=1)\n"
          ]
        }
      ]
    },
    {
      "cell_type": "markdown",
      "source": [
        "Задание:\n",
        "Чему равно p_value проверки на нормальность данных, сгенерированных следующим образом, тестом Колмогорова-Смирнова с нормализацией? Ответ округлите до второго знака после запятой."
      ],
      "metadata": {
        "id": "_zk6qPfDRVOM"
      }
    },
    {
      "cell_type": "code",
      "source": [
        "np.random.seed(2)\n",
        "random_normal = np.random.normal(2, 4, 10)\n",
        "\n",
        "print(stats.kstest((random_normal - np.mean(random_normal)) / np.std(random_normal), 'norm'))"
      ],
      "metadata": {
        "colab": {
          "base_uri": "https://localhost:8080/"
        },
        "id": "MjA4U8KqRc2o",
        "outputId": "f25984bc-7f78-48d9-b8f2-c315387bc5ab"
      },
      "execution_count": null,
      "outputs": [
        {
          "output_type": "stream",
          "name": "stdout",
          "text": [
            "KstestResult(statistic=0.17907654022324243, pvalue=0.8514658527102467, statistic_location=-0.19953160960160207, statistic_sign=1)\n"
          ]
        }
      ]
    },
    {
      "cell_type": "markdown",
      "source": [
        "# Множественная проверка гипотез. Практика"
      ],
      "metadata": {
        "id": "nt7jV9ebidEa"
      }
    },
    {
      "cell_type": "markdown",
      "source": [
        "Как всегда, сначала импортируем все необходимые библиотеки.\n",
        "\n",
        "В этот раз SciPy нас подвёла: на данный момент в ней нет необходимой функциональности, но не напомнить про множественную проверку гипотез в рамках статистических тестов мы не могли. Поэтому воспользуемся библиотекой statsmodels."
      ],
      "metadata": {
        "id": "IDqP5epcilus"
      }
    },
    {
      "cell_type": "code",
      "source": [
        "import numpy as np\n",
        "from statsmodels.stats.multitest import multipletests"
      ],
      "metadata": {
        "id": "Jeqk7Q39ikvi"
      },
      "execution_count": 55,
      "outputs": []
    },
    {
      "cell_type": "markdown",
      "source": [
        "Сгенерируем p-values и предположим, что мы их получили из множественной проверки гипотез."
      ],
      "metadata": {
        "id": "304lHz9Biv6w"
      }
    },
    {
      "cell_type": "code",
      "source": [
        "np.random.seed(2)\n",
        "pvals = np.random.uniform(0, 0.3, 100)"
      ],
      "metadata": {
        "id": "1F1v2OpHi2Zl"
      },
      "execution_count": 56,
      "outputs": []
    },
    {
      "cell_type": "code",
      "source": [
        "import matplotlib.pyplot as plt\n",
        "plt.hist(pvals)\n",
        "plt.show()"
      ],
      "metadata": {
        "colab": {
          "base_uri": "https://localhost:8080/",
          "height": 430
        },
        "id": "Y6dWl6Eni69-",
        "outputId": "c18783e7-442f-4f2c-8ab0-b67f64876ef0"
      },
      "execution_count": 60,
      "outputs": [
        {
          "output_type": "display_data",
          "data": {
            "text/plain": [
              "<Figure size 640x480 with 1 Axes>"
            ],
            "image/png": "[encoded data removed]"
          },
          "metadata": {}
        }
      ]
    },
    {
      "cell_type": "markdown",
      "source": [
        "Скорректируем поправкой Холма:"
      ],
      "metadata": {
        "id": "U_MVzl-xjsnz"
      }
    },
    {
      "cell_type": "code",
      "source": [
        "pvals_corrected = multipletests(pvals, method=\"holm\")\n",
        "plt.hist(pvals_corrected)\n",
        "plt.show()"
      ],
      "metadata": {
        "colab": {
          "base_uri": "https://localhost:8080/",
          "height": 447
        },
        "id": "Qa6WRGqLjAUZ",
        "outputId": "694568c1-f29d-4835-e5da-ce8fbf51c366"
      },
      "execution_count": 62,
      "outputs": [
        {
          "output_type": "stream",
          "name": "stderr",
          "text": [
            "<__array_function__ internals>:180: RuntimeWarning: Converting input from bool to <class 'numpy.uint8'> for compatibility.\n"
          ]
        },
        {
          "output_type": "display_data",
          "data": {
            "text/plain": [
              "<Figure size 640x480 with 1 Axes>"
            ],
            "image/png": "[encoded data removed]"
          },
          "metadata": {}
        }
      ]
    },
    {
      "cell_type": "markdown",
      "source": [
        "Посмотрим на результат: поправка сильно сдвинула среднее значения p_values."
      ],
      "metadata": {
        "id": "A6VOlKMskNm4"
      }
    },
    {
      "cell_type": "markdown",
      "source": [
        "# Статистические тесты и бизнес-интерпретация результатов. Практика"
      ],
      "metadata": {
        "id": "jn6RRnnrlb_m"
      }
    },
    {
      "cell_type": "markdown",
      "source": [
        "Попробуем применить статистические тесты на практике.   \n",
        "И сделаем мы это на известном датасете «Титаника»: напомним, что в нём содержатся данные о выживших пассажирах.   \n",
        "В центре нашего внимания окажутся некоторые статистически подтверждённые закономерности.\n",
        "Датасет уже разбит на тренировочную и тестовую выборки.\n",
        "Итак, импортируем нужные библиотеки и рассмотрим датасет подробнее."
      ],
      "metadata": {
        "id": "qfis5LYzlid7"
      }
    },
    {
      "cell_type": "code",
      "source": [
        "import numpy as np\n",
        "import pandas as pd\n",
        "import scipy as sp\n",
        "from statsmodels.stats.proportion import proportions_ztest\n",
        "from statsmodels.stats.multitest import multipletests"
      ],
      "metadata": {
        "id": "1nbONUdUl5qR"
      },
      "execution_count": 63,
      "outputs": []
    },
    {
      "cell_type": "code",
      "source": [
        "#В колабе импортируем все необходимые библиотеки\n",
        "from pydrive.auth import GoogleAuth\n",
        "from pydrive.drive import GoogleDrive\n",
        "from google.colab import auth\n",
        "from oauth2client.client import GoogleCredentials\n",
        "\n",
        "#Привязываем гуглдиск к колабу\n",
        "auth.authenticate_user()\n",
        "gauth = GoogleAuth()\n",
        "gauth.credentials = GoogleCredentials.get_application_default()\n",
        "drive = GoogleDrive(gauth)\n",
        "\n",
        "# Загружаем файл в колаб\n",
        "download = drive.CreateFile({\"id\": \"12bUWnAgj9d7eSFWwS7koa5vwciKvo029\"})\n",
        "# https://drive.google.com/file/d/12bUWnAgj9d7eSFWwS7koa5vwciKvo029/view?usp=sharing\n",
        "download.GetContentFile(\"train.csv\")\n",
        "\n",
        "download = drive.CreateFile({\"id\": \"1W6rLBGbPG-gs5mB0CWvH0tbSCfV-M3s-\"})\n",
        "# https://drive.google.com/file/d/1W6rLBGbPG-gs5mB0CWvH0tbSCfV-M3s-/view?usp=sharing\n",
        "download.GetContentFile(\"test.csv\")"
      ],
      "metadata": {
        "id": "rw3wCjV2o96a"
      },
      "execution_count": 64,
      "outputs": []
    },
    {
      "cell_type": "code",
      "source": [
        "df_train = pd.read_csv(\"train.csv\", index_col=\"PassengerId\")\n",
        "df_test = pd.read_csv(\"test.csv\", index_col=\"PassengerId\")"
      ],
      "metadata": {
        "id": "hRJwOU6-ny_X"
      },
      "execution_count": 65,
      "outputs": []
    },
    {
      "cell_type": "markdown",
      "source": [
        "## ИССЛЕДУЕМ СТРУКТУРУ НАШИХ ДАННЫХ"
      ],
      "metadata": {
        "id": "cnEeNMp7p2-3"
      }
    },
    {
      "cell_type": "code",
      "source": [
        "print(df_train.info())\n",
        "print(df_train.describe())"
      ],
      "metadata": {
        "colab": {
          "base_uri": "https://localhost:8080/"
        },
        "id": "7Gq3388rqDU5",
        "outputId": "80e9b70d-c5ce-464a-ab15-0a2580f27bae"
      },
      "execution_count": 66,
      "outputs": [
        {
          "output_type": "stream",
          "name": "stdout",
          "text": [
            "<class 'pandas.core.frame.DataFrame'>\n",
            "Int64Index: 891 entries, 1 to 891\n",
            "Data columns (total 11 columns):\n",
            " #   Column    Non-Null Count  Dtype  \n",
            "---  ------    --------------  -----  \n",
            " 0   Survived  891 non-null    int64  \n",
            " 1   Pclass    891 non-null    int64  \n",
            " 2   Name      891 non-null    object \n",
            " 3   Sex       891 non-null    object \n",
            " 4   Age       714 non-null    float64\n",
            " 5   SibSp     891 non-null    int64  \n",
            " 6   Parch     891 non-null    int64  \n",
            " 7   Ticket    891 non-null    object \n",
            " 8   Fare      891 non-null    float64\n",
            " 9   Cabin     204 non-null    object \n",
            " 10  Embarked  889 non-null    object \n",
            "dtypes: float64(2), int64(4), object(5)\n",
            "memory usage: 83.5+ KB\n",
            "None\n",
            "         Survived      Pclass         Age       SibSp       Parch        Fare\n",
            "count  891.000000  891.000000  714.000000  891.000000  891.000000  891.000000\n",
            "mean     0.383838    2.308642   29.699118    0.523008    0.381594   32.204208\n",
            "std      0.486592    0.836071   14.526497    1.102743    0.806057   49.693429\n",
            "min      0.000000    1.000000    0.420000    0.000000    0.000000    0.000000\n",
            "25%      0.000000    2.000000   20.125000    0.000000    0.000000    7.910400\n",
            "50%      0.000000    3.000000   28.000000    0.000000    0.000000   14.454200\n",
            "75%      1.000000    3.000000   38.000000    1.000000    0.000000   31.000000\n",
            "max      1.000000    3.000000   80.000000    8.000000    6.000000  512.329200\n"
          ]
        }
      ]
    },
    {
      "cell_type": "markdown",
      "source": [
        "## ОТВЕТИМ НА ВОПРОСЫ С ТОЧКИ ЗРЕНИЯ СТАТИСТИКИ\n",
        "\n",
        "а) Правда ли, что мужчины реже выживали, чем женщины?\n",
        "\n",
        "Если мы построим графики, то это будет очевидно, но верить своим глазам стоит не всегда. Лучше протестируем!"
      ],
      "metadata": {
        "id": "4puyAJqYqO3w"
      }
    },
    {
      "cell_type": "code",
      "source": [
        "# количество выживших мужчин\n",
        "male_survived = df_train[df_train['Sex']=='male']['Survived'].sum()\n",
        "# общее количество мужчин\n",
        "male_num = len(df_train[df_train['Sex']=='male']['Survived'])\n",
        "# количество выживших женщин\n",
        "female_survived = df_train[df_train['Sex']=='female']['Survived'].sum()\n",
        "# общее количество женщин\n",
        "female_num = len(df_train[df_train['Sex']=='female']['Survived'])\n",
        "# z-тест на пропорции\n",
        "proportions_ztest(count=[male_survived, female_survived], nobs=[male_num , female_num])"
      ],
      "metadata": {
        "colab": {
          "base_uri": "https://localhost:8080/"
        },
        "id": "Vk8LL3dXqVsa",
        "outputId": "e6f0d2f2-024c-4113-beac-0e395ad57f36"
      },
      "execution_count": 67,
      "outputs": [
        {
          "output_type": "execute_result",
          "data": {
            "text/plain": [
              "(-16.218833930670097, 3.7117477701134797e-59)"
            ]
          },
          "metadata": {},
          "execution_count": 67
        }
      ]
    },
    {
      "cell_type": "markdown",
      "source": [
        "p_value = 3.71e-59 < 0.05 значит НО: отвегается (пропорции выживших не равны)"
      ],
      "metadata": {
        "id": "J5mAGBGmAcPF"
      }
    },
    {
      "cell_type": "code",
      "source": [
        "male_survived"
      ],
      "metadata": {
        "colab": {
          "base_uri": "https://localhost:8080/"
        },
        "id": "twf3hvw8_h39",
        "outputId": "dfe2c172-b99c-4bed-b4d4-92ffbc7ba082"
      },
      "execution_count": 88,
      "outputs": [
        {
          "output_type": "execute_result",
          "data": {
            "text/plain": [
              "109"
            ]
          },
          "metadata": {},
          "execution_count": 88
        }
      ]
    },
    {
      "cell_type": "code",
      "source": [
        "len(df_train[df_train['Sex']=='male']['Survived'])"
      ],
      "metadata": {
        "colab": {
          "base_uri": "https://localhost:8080/"
        },
        "id": "wpS-Y178_syd",
        "outputId": "fa220fff-a534-4daf-9052-25361212229d"
      },
      "execution_count": 90,
      "outputs": [
        {
          "output_type": "execute_result",
          "data": {
            "text/plain": [
              "577"
            ]
          },
          "metadata": {},
          "execution_count": 90
        }
      ]
    },
    {
      "cell_type": "code",
      "source": [
        "female_survived"
      ],
      "metadata": {
        "colab": {
          "base_uri": "https://localhost:8080/"
        },
        "id": "sc93BNtbH8BE",
        "outputId": "030e880f-bce3-4b9e-8327-a217269d1cee"
      },
      "execution_count": 94,
      "outputs": [
        {
          "output_type": "execute_result",
          "data": {
            "text/plain": [
              "233"
            ]
          },
          "metadata": {},
          "execution_count": 94
        }
      ]
    },
    {
      "cell_type": "code",
      "source": [
        "female_num"
      ],
      "metadata": {
        "colab": {
          "base_uri": "https://localhost:8080/"
        },
        "id": "vCKs7J1_H_zv",
        "outputId": "61f0a272-6ab9-4a41-c821-c62727874dcf"
      },
      "execution_count": 95,
      "outputs": [
        {
          "output_type": "execute_result",
          "data": {
            "text/plain": [
              "314"
            ]
          },
          "metadata": {},
          "execution_count": 95
        }
      ]
    },
    {
      "cell_type": "markdown",
      "source": [
        "Мы видим, что есть статистически значимое различие между числом выживших мужчин и женщин. Но наша цель не в том, чтобы зафиксировать наличие различий в уровне выживаемости, а выяснить, выживали ли мужчины реже. У нас есть два варианта: просто посмотреть, где больше выживших с учётом проверенной гипотезы, или провести одностороннюю проверку гипотезы. Последний вариант вполне подходит:"
      ],
      "metadata": {
        "id": "21YNFAi-qgK3"
      }
    },
    {
      "cell_type": "code",
      "source": [
        "# проверяем гипотезу о пропорциях выживших,выживали ли мужчины реже, чем женщины\n",
        "# smaller означает что альтернативная гипотеза, что первая группа(male_survived) выживали реже(эта доля smaller), чем вторая(female_survived)\n",
        "proportions_ztest(count=[male_survived, female_survived], nobs=[male_num , female_num], alternative='smaller')"
      ],
      "metadata": {
        "colab": {
          "base_uri": "https://localhost:8080/"
        },
        "id": "lXX_rmeVqkaK",
        "outputId": "cc022e55-7890-43c1-9063-e71b7884e0df"
      },
      "execution_count": 93,
      "outputs": [
        {
          "output_type": "execute_result",
          "data": {
            "text/plain": [
              "(-16.218833930670097, 1.8558738850567398e-59)"
            ]
          },
          "metadata": {},
          "execution_count": 93
        }
      ]
    },
    {
      "cell_type": "markdown",
      "source": [
        "p_value = 3.71e-59 < 0.05 значит НО отвергается и принимается НА (пропорции выживших не равны, доля первой группы(male) меньше) Мужчины выживали реже."
      ],
      "metadata": {
        "id": "Mgs3wGv_E0qX"
      }
    },
    {
      "cell_type": "markdown",
      "source": [
        "b) Верно ли, что погибшие в среднем были старше, чем выжившие?\n",
        "\n",
        "Здесь нам поможет тест на равенство средних:"
      ],
      "metadata": {
        "id": "YxgpAUbIq2ZL"
      }
    },
    {
      "cell_type": "code",
      "source": [
        "df_cleared = df_train.dropna()\n",
        "# массив возрастов выживших\n",
        "survived_ages = df_cleared[df_cleared['Survived']==1]['Age'].values\n",
        "# массив возрастов погибших\n",
        "died_ages = df_cleared[df_cleared['Survived']!=1]['Age'].values\n",
        "# верна ли альтернативная гипотеза, что средний возраст первой группы больше, чем второй\n",
        "# sp.stats.ttest_ind(died_ages, survived_ages, alternative=\"greater\")\n",
        "sp.stats.ttest_ind(died_ages, survived_ages, alternative=\"greater\")"
      ],
      "metadata": {
        "colab": {
          "base_uri": "https://localhost:8080/"
        },
        "id": "A33Z86Bpq7ay",
        "outputId": "9abbf4dc-3760-47ff-e85f-119e23c94985"
      },
      "execution_count": 98,
      "outputs": [
        {
          "output_type": "execute_result",
          "data": {
            "text/plain": [
              "TtestResult(statistic=3.53435125095576, pvalue=0.0002594751653940836, df=181.0)"
            ]
          },
          "metadata": {},
          "execution_count": 98
        }
      ]
    },
    {
      "cell_type": "markdown",
      "source": [
        "Вероятность что они равны, p_value < 0.05, НО отвергнута.  \n",
        "\n",
        "Принята альтернативная гипотеза, что средний возраст первой группы(died), больше (greater), чем выживших (survived)"
      ],
      "metadata": {
        "id": "BAc-CB_wJxtu"
      }
    },
    {
      "cell_type": "markdown",
      "source": [
        "## ПРОДОЛЖИМ РАБОТУ С ПАРАМЕТРОМ ВОЗРАСТА\n",
        "\n",
        "Разобьём его на декады и проверим, верно ли, что выживаемость между различными возрастными группами различна. При этом помним, что мы с вами проводим множественную проверку гипотез:"
      ],
      "metadata": {
        "id": "HZW5rdZ3raqz"
      }
    },
    {
      "cell_type": "code",
      "source": [
        "from statsmodels.stats.multitest import multipletests\n",
        "from statsmodels.stats.proportion import proportions_ztest\n",
        "import pandas as pd\n",
        "pd.options.mode.chained_assignment = None  # default='warn'\n",
        "\n",
        "# создадим признак Возрастная группа\n",
        "df_cleared.loc[:, 'age_group'] = df_cleared['Age'].apply(lambda x: x//10)\n",
        "# список\n",
        "p_vals = []\n",
        "# список\n",
        "coeffs = []\n",
        "# список возрастных группы\n",
        "age_groups = df_cleared['age_group'].unique()\n",
        "\n",
        "# для каждой возрастной группы\n",
        "for i in range(len(age_groups)):\n",
        "    # сумма выживших в данной возрастной группы\n",
        "    age_group_1_sum = df_cleared[df_cleared['age_group']==age_groups[i]]['Survived'].sum()\n",
        "    # общее количество данной возрастной группы\n",
        "    age_group_1_count = len(df_cleared[df_cleared['age_group']==age_groups[i]])\n",
        "    # для каждого элемента от данной возрастной группы до конца массива возрастных групп\n",
        "    # print(i)\n",
        "    for j in range(i+1, len(age_groups)):\n",
        "        # print(j)\n",
        "        # сумма выживших в остальных возрастных группах\n",
        "        age_group_2_sum = df_cleared[df_cleared['age_group']==age_groups[j]]['Survived'].sum()\n",
        "        # общее количество людей в других возрастных группах\n",
        "        age_group_2_count = len(df_cleared[df_cleared['age_group']==age_groups[j]])\n",
        "        # вероятность того, что данные группы равны\n",
        "        p_value = proportions_ztest(count=[age_group_1_sum, age_group_2_sum], nobs=[age_group_1_count, age_group_2_count])[1]\n",
        "        # пополняем список вероятностей того, что данная возрастная группа погибала так же как и остальные\n",
        "        p_vals.append(p_value)\n",
        "        # print(p_vals)\n",
        "        # пополняем список сравниваемых группы\n",
        "        coeffs.append(age_groups[j])\n",
        "        # print(coeffs)\n",
        "# применяем поправку для уменьшения ложноположительных результатов\n",
        "p_vals_corrected = multipletests(p_vals, method=\"bonferroni\")[1]\n",
        "\n",
        "# выбираем из скорректированных результатов сравнения только те возрастные группы,\n",
        "# которые отвергают нулевую гипотезу о равенстве смертей с остальными возрастными групами\n",
        "for i, pval in enumerate(p_vals_corrected):\n",
        "    if pval < 0.05:\n",
        "        print(coeffs[i])"
      ],
      "metadata": {
        "id": "u1XAQumlrp-q"
      },
      "execution_count": 106,
      "outputs": []
    },
    {
      "cell_type": "markdown",
      "source": [
        "Таким образом, в итоговую модель целесообразно включать пол и возраст. А добавление возрастных групп, напротив, выглядит сомнительно."
      ],
      "metadata": {
        "id": "QzmcpQ9R03Ac"
      }
    }
  ]
}