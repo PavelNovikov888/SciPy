{
  "nbformat": 4,
  "nbformat_minor": 0,
  "metadata": {
    "colab": {
      "provenance": [],
      "authorship_tag": "ABX9TyO28ZNVFnLEhY4k5376nh/Y",
      "include_colab_link": true
    },
    "kernelspec": {
      "name": "python3",
      "display_name": "Python 3"
    },
    "language_info": {
      "name": "python"
    }
  },
  "cells": [
    {
      "cell_type": "markdown",
      "metadata": {
        "id": "view-in-github",
        "colab_type": "text"
      },
      "source": [
        "<a href=\"https://colab.research.google.com/github/PavelNovikov888/SciPy/blob/master/SciPy_%D0%A3%D1%81%D1%82%D0%B0%D0%BD%D0%BE%D0%B2%D0%BA%D0%B0.ipynb\" target=\"_parent\"><img src=\"https://colab.research.google.com/assets/colab-badge.svg\" alt=\"Open In Colab\"/></a>"
      ]
    },
    {
      "cell_type": "code",
      "execution_count": 86,
      "metadata": {
        "id": "_yO9A_7TXSHA"
      },
      "outputs": [],
      "source": [
        "# !pip install scipy"
      ]
    },
    {
      "cell_type": "markdown",
      "source": [
        "После установки давайте проверим, что всё работает, и заодно познакомимся с одной важной спецификой библиотеки.\n",
        "Импортируем пакет с оптимизаторами."
      ],
      "metadata": {
        "id": "c8qRRaCnXn1B"
      }
    },
    {
      "cell_type": "code",
      "source": [
        "from scipy import optimize\n",
        "# Для просмотра документации импортируем numpy\n",
        "import numpy as np\n",
        "# Посмотрим документацию минимизатора функции\n",
        "np.info(optimize.fmin)\n",
        "from scipy import sparse\n",
        "from numpy.random import rand"
      ],
      "metadata": {
        "colab": {
          "base_uri": "https://localhost:8080/"
        },
        "id": "U_XiuUj9XYlJ",
        "outputId": "e1505ad6-bde3-4bc4-b430-c38291707be2"
      },
      "execution_count": 87,
      "outputs": [
        {
          "output_type": "stream",
          "name": "stdout",
          "text": [
            " fmin(func, x0, args=(), xtol=0.0001, ftol=0.0001, maxiter=None, maxfun=None,\n",
            "      full_output=0, disp=1, retall=0, callback=None, initial_simplex=None)\n",
            "\n",
            "Minimize a function using the downhill simplex algorithm.\n",
            "\n",
            "This algorithm only uses function values, not derivatives or second\n",
            "derivatives.\n",
            "\n",
            "Parameters\n",
            "----------\n",
            "func : callable func(x,*args)\n",
            "    The objective function to be minimized.\n",
            "x0 : ndarray\n",
            "    Initial guess.\n",
            "args : tuple, optional\n",
            "    Extra arguments passed to func, i.e., ``f(x,*args)``.\n",
            "xtol : float, optional\n",
            "    Absolute error in xopt between iterations that is acceptable for\n",
            "    convergence.\n",
            "ftol : number, optional\n",
            "    Absolute error in func(xopt) between iterations that is acceptable for\n",
            "    convergence.\n",
            "maxiter : int, optional\n",
            "    Maximum number of iterations to perform.\n",
            "maxfun : number, optional\n",
            "    Maximum number of function evaluations to make.\n",
            "full_output : bool, optional\n",
            "    Set to True if fopt and warnflag outputs are desired.\n",
            "disp : bool, optional\n",
            "    Set to True to print convergence messages.\n",
            "retall : bool, optional\n",
            "    Set to True to return list of solutions at each iteration.\n",
            "callback : callable, optional\n",
            "    Called after each iteration, as callback(xk), where xk is the\n",
            "    current parameter vector.\n",
            "initial_simplex : array_like of shape (N + 1, N), optional\n",
            "    Initial simplex. If given, overrides `x0`.\n",
            "    ``initial_simplex[j,:]`` should contain the coordinates of\n",
            "    the jth vertex of the ``N+1`` vertices in the simplex, where\n",
            "    ``N`` is the dimension.\n",
            "\n",
            "Returns\n",
            "-------\n",
            "xopt : ndarray\n",
            "    Parameter that minimizes function.\n",
            "fopt : float\n",
            "    Value of function at minimum: ``fopt = func(xopt)``.\n",
            "iter : int\n",
            "    Number of iterations performed.\n",
            "funcalls : int\n",
            "    Number of function calls made.\n",
            "warnflag : int\n",
            "    1 : Maximum number of function evaluations made.\n",
            "    2 : Maximum number of iterations reached.\n",
            "allvecs : list\n",
            "    Solution at each iteration.\n",
            "\n",
            "See also\n",
            "--------\n",
            "minimize: Interface to minimization algorithms for multivariate\n",
            "    functions. See the 'Nelder-Mead' `method` in particular.\n",
            "\n",
            "Notes\n",
            "-----\n",
            "Uses a Nelder-Mead simplex algorithm to find the minimum of function of\n",
            "one or more variables.\n",
            "\n",
            "This algorithm has a long history of successful use in applications.\n",
            "But it will usually be slower than an algorithm that uses first or\n",
            "second derivative information. In practice, it can have poor\n",
            "performance in high-dimensional problems and is not robust to\n",
            "minimizing complicated functions. Additionally, there currently is no\n",
            "complete theory describing when the algorithm will successfully\n",
            "converge to the minimum, or how fast it will if it does. Both the ftol and\n",
            "xtol criteria must be met for convergence.\n",
            "\n",
            "Examples\n",
            "--------\n",
            ">>> def f(x):\n",
            "...     return x**2\n",
            "\n",
            ">>> from scipy import optimize\n",
            "\n",
            ">>> minimum = optimize.fmin(f, 1)\n",
            "Optimization terminated successfully.\n",
            "         Current function value: 0.000000\n",
            "         Iterations: 17\n",
            "         Function evaluations: 34\n",
            ">>> minimum[0]\n",
            "-8.8817841970012523e-16\n",
            "\n",
            "References\n",
            "----------\n",
            ".. [1] Nelder, J.A. and Mead, R. (1965), \"A simplex method for function\n",
            "       minimization\", The Computer Journal, 7, pp. 308-313\n",
            "\n",
            ".. [2] Wright, M.H. (1996), \"Direct Search Methods: Once Scorned, Now\n",
            "       Respectable\", in Numerical Analysis 1995, Proceedings of the\n",
            "       1995 Dundee Biennial Conference in Numerical Analysis, D.F.\n",
            "       Griffiths and G.A. Watson (Eds.), Addison Wesley Longman,\n",
            "       Harlow, UK, pp. 191-208.\n"
          ]
        }
      ]
    },
    {
      "cell_type": "markdown",
      "source": [
        "1. Научимся создавать матрицы разных типов:"
      ],
      "metadata": {
        "id": "6T3WyX-jNIGY"
      }
    },
    {
      "cell_type": "code",
      "source": [
        "# from scipy import sparse\n",
        "# from numpy.random import rand"
      ],
      "metadata": {
        "id": "d3aAwIU3DRzP"
      },
      "execution_count": 88,
      "outputs": []
    },
    {
      "cell_type": "code",
      "source": [
        "sample_csr = sparse.csr_matrix([[1, 2, 0], [0, 0, 3], [4, 0, 5]])"
      ],
      "metadata": {
        "id": "fHy_EPlWDF2d"
      },
      "execution_count": 89,
      "outputs": []
    },
    {
      "cell_type": "code",
      "source": [
        "print(sample_csr)"
      ],
      "metadata": {
        "colab": {
          "base_uri": "https://localhost:8080/"
        },
        "id": "J6_DFxGuDK0I",
        "outputId": "a950560b-405d-42e4-f5bb-4d1d1b62c8d7"
      },
      "execution_count": 90,
      "outputs": [
        {
          "output_type": "stream",
          "name": "stdout",
          "text": [
            "  (0, 0)\t1\n",
            "  (0, 1)\t2\n",
            "  (1, 2)\t3\n",
            "  (2, 0)\t4\n",
            "  (2, 2)\t5\n"
          ]
        }
      ]
    },
    {
      "cell_type": "code",
      "source": [
        "# CSС-матрица\n",
        "row = np.array([0, 2, 2, 0, 1, 2])\n",
        "col = np.array([0, 0, 1, 2, 2, 2])\n",
        "data = np.array([1, 2, 3, 4, 5, 6])\n",
        "\n",
        "sample_csc = sparse.csc_matrix((data, (row, col)), shape=(3, 3))"
      ],
      "metadata": {
        "id": "QGs31a4DHynr"
      },
      "execution_count": 91,
      "outputs": []
    },
    {
      "cell_type": "code",
      "source": [
        "print(sample_csc)"
      ],
      "metadata": {
        "colab": {
          "base_uri": "https://localhost:8080/"
        },
        "id": "nN0LryPoN1FT",
        "outputId": "310209d0-3af0-456d-9271-aeb2910c5afb"
      },
      "execution_count": 92,
      "outputs": [
        {
          "output_type": "stream",
          "name": "stdout",
          "text": [
            "  (0, 0)\t1\n",
            "  (2, 0)\t2\n",
            "  (2, 1)\t3\n",
            "  (0, 2)\t4\n",
            "  (1, 2)\t5\n",
            "  (2, 2)\t6\n"
          ]
        }
      ]
    },
    {
      "cell_type": "code",
      "source": [
        "# COO-матрица\n",
        "I = np.array([0,3,1,0])\n",
        "J = np.array([0,3,1,2])\n",
        "V = np.array([4,5,7,9])\n",
        "\n",
        "sample_coo = sparse.coo_matrix((V,(I,J)),shape=(4,4))"
      ],
      "metadata": {
        "id": "sYYD6hhaH1lr"
      },
      "execution_count": 93,
      "outputs": []
    },
    {
      "cell_type": "code",
      "source": [
        "print(sample_coo)"
      ],
      "metadata": {
        "colab": {
          "base_uri": "https://localhost:8080/"
        },
        "id": "M88qKgjQOG91",
        "outputId": "f654285c-c416-4f56-deb6-a581e67a1c11"
      },
      "execution_count": 94,
      "outputs": [
        {
          "output_type": "stream",
          "name": "stdout",
          "text": [
            "  (0, 0)\t4\n",
            "  (3, 3)\t5\n",
            "  (1, 1)\t7\n",
            "  (0, 2)\t9\n"
          ]
        }
      ]
    },
    {
      "cell_type": "code",
      "source": [
        "# LIL матрица\n",
        "sample_lil = sparse.lil_matrix((0, 101))"
      ],
      "metadata": {
        "id": "atC7JfTeIF44"
      },
      "execution_count": 95,
      "outputs": []
    },
    {
      "cell_type": "code",
      "source": [
        "print(sample_lil)"
      ],
      "metadata": {
        "colab": {
          "base_uri": "https://localhost:8080/"
        },
        "id": "1XM2hGfNOp7y",
        "outputId": "041f6807-3716-4e6f-e177-bc853724bed9"
      },
      "execution_count": 96,
      "outputs": [
        {
          "output_type": "stream",
          "name": "stdout",
          "text": [
            "\n"
          ]
        }
      ]
    },
    {
      "cell_type": "code",
      "source": [
        "#  DOK-матрица\n",
        "sample_dok = sparse.dok_matrix((5, 5), dtype=np.float32)"
      ],
      "metadata": {
        "id": "DChLjtQYIKH6"
      },
      "execution_count": 97,
      "outputs": []
    },
    {
      "cell_type": "code",
      "source": [
        "print(sample_dok)"
      ],
      "metadata": {
        "colab": {
          "base_uri": "https://localhost:8080/"
        },
        "id": "sbEAK8ydPBAa",
        "outputId": "6e0e4f8e-3a0e-4718-8b7e-9736ec6c6ee5"
      },
      "execution_count": 98,
      "outputs": [
        {
          "output_type": "stream",
          "name": "stdout",
          "text": [
            "\n"
          ]
        }
      ]
    },
    {
      "cell_type": "markdown",
      "source": [
        "2. Научимся заполнять матрицы. К счастью, большая часть механики уже реализована за нас:"
      ],
      "metadata": {
        "id": "C8C_hRAGIQ7p"
      }
    },
    {
      "cell_type": "code",
      "source": [
        "d = np.ones(10)\n",
        "print(d)"
      ],
      "metadata": {
        "colab": {
          "base_uri": "https://localhost:8080/"
        },
        "id": "Tm-1JZLiSNwQ",
        "outputId": "b1ccc8f2-0714-4ffa-9397-2b8c040e912c"
      },
      "execution_count": 99,
      "outputs": [
        {
          "output_type": "stream",
          "name": "stdout",
          "text": [
            "[1. 1. 1. 1. 1. 1. 1. 1. 1. 1.]\n"
          ]
        }
      ]
    },
    {
      "cell_type": "code",
      "source": [
        "# from numpy.random import rand\n",
        "\n",
        "# LIL matrix\n",
        "sample_lil = sparse.lil_matrix((1000,1000))\n",
        "sample_lil[1, :100] = np.ones(100)\n",
        "sample_lil[1, 100:200] = sample_lil[0, :100]\n",
        "sample_lil.setdiag(rand(1000))\n",
        "\n",
        "for i in range(5):\n",
        "    for j in range(5):\n",
        "        sample_dok [i, j] = i + j"
      ],
      "metadata": {
        "id": "Z3yUG3kxIYjW"
      },
      "execution_count": 100,
      "outputs": []
    },
    {
      "cell_type": "markdown",
      "source": [
        "К сожалению, COO-, CSC-, CSR-матрицы очень плохо изменяемы после создания — большая часть операций для них не определена. Поэтому COO-матрицы будем считать неизменяемыми. Для обновления CSC и CSR используется матричное сложение или перевод в dense-формат с последующим обновлением и переводом обратно в sparse-формат. Давайте посмотрим, как это делается, на примере CSR:\n"
      ],
      "metadata": {
        "id": "_Om2Qo5qIj7X"
      }
    },
    {
      "cell_type": "code",
      "source": [
        " # Переведем в dense и исправим необходимые значения\n",
        "tmp_filled = sample_csr.toarray()\n",
        "tmp_filled[0, 0] = 10\n",
        "sample_csr_new = sparse.csr_matrix(tmp_filled)\n",
        "\n",
        "#Аналогично через сложение двух матриц\n",
        "tmp_csr = sparse.csr_matrix([[5, 0, 0], [0, 0, 0], [0, 0, 0]])\n",
        "sample_csr_new = sample_csr + tmp_csr"
      ],
      "metadata": {
        "id": "YbCMp3xNJB-c"
      },
      "execution_count": 101,
      "outputs": []
    },
    {
      "cell_type": "markdown",
      "source": [
        "3. С матрицами можно делать большинство матричных и матрично-векторных операций, которые мы совершали с помощью numpy.\n",
        "## Одно важное уточнение: матричные операции мы можем совершать только между матрицами одного формата."
      ],
      "metadata": {
        "id": "g_FCp1iwJah3"
      }
    },
    {
      "cell_type": "code",
      "source": [
        "v = np.array([1, 0, -1])\n",
        "tmp_csr = sparse.csr_matrix([[5, 0, 0], [0, 0, 0], [0, 0, 0]])\n",
        "sample_csr = sample_csr + tmp_csr\n",
        "sample_csr = sample_csr.dot(v)"
      ],
      "metadata": {
        "id": "j1HHI_C1MSmQ"
      },
      "execution_count": 102,
      "outputs": []
    },
    {
      "cell_type": "code",
      "source": [
        "v = np.array([1, 0, -1])\n",
        "tmp_csc = sparse.csc_matrix([[5, 0, 0], [0, 0, 0], [0, 0, 0]])\n",
        "sample_csc = sample_csc + tmp_csc\n",
        "sample_csc = sample_csc.dot(v)"
      ],
      "metadata": {
        "id": "UhGDT9hkMVZl"
      },
      "execution_count": 103,
      "outputs": []
    },
    {
      "cell_type": "code",
      "source": [
        "sample_lil_tmp = sparse.lil_matrix((1000, 1000))\n",
        "sample_lil1 = sample_lil + sample_lil_tmp"
      ],
      "metadata": {
        "id": "KSTzcYVMDXjX"
      },
      "execution_count": 109,
      "outputs": []
    },
    {
      "cell_type": "code",
      "source": [
        "sample_lil = sparse.lil_matrix((3, 3))\n",
        "v = np.array([1, 0, -1])\n",
        "sample_lil_tmp = sparse.lil_matrix((3, 3))\n",
        "sample_lil = sample_lil.dot(v) + sample_lil_tmp\n",
        "sample_lil"
      ],
      "metadata": {
        "colab": {
          "base_uri": "https://localhost:8080/"
        },
        "id": "BepFhLfRebUk",
        "outputId": "163ac8f1-f69a-458f-e533-1a7723182493"
      },
      "execution_count": 111,
      "outputs": [
        {
          "output_type": "execute_result",
          "data": {
            "text/plain": [
              "matrix([[0., 0., 0.],\n",
              "        [0., 0., 0.],\n",
              "        [0., 0., 0.]])"
            ]
          },
          "metadata": {},
          "execution_count": 111
        }
      ]
    },
    {
      "cell_type": "markdown",
      "source": [
        "Создадим матрицу CSR размером 3*4, в которой первый столбец заполнен единицами, а третий — четвёрками.   \n",
        "Создайте sparse CSR-матрицу с помощью трёх массивов и запишите в переменную tmp.   \n",
        "После каждой запятой обязательно добавьте пробел."
      ],
      "metadata": {
        "id": "t_-pp5R6nxDS"
      }
    },
    {
      "cell_type": "code",
      "source": [
        "row = np.array([0, 0, 1, 1, 2, 2])\n",
        "col = np.array([0, 2, 0, 2, 0, 2])\n",
        "data = np.array([1, 4, 1, 4, 1, 4])\n",
        "tmp = sparse.csr_matrix((data, (row, col)), shape=(3, 4)).toarray()\n",
        "tmp"
      ],
      "metadata": {
        "colab": {
          "base_uri": "https://localhost:8080/"
        },
        "id": "aYmSvefVntVA",
        "outputId": "f2573eb7-169d-4780-c333-3b5c3d2b9775"
      },
      "execution_count": 124,
      "outputs": [
        {
          "output_type": "execute_result",
          "data": {
            "text/plain": [
              "array([[1, 0, 4, 0],\n",
              "       [1, 0, 4, 0],\n",
              "       [1, 0, 4, 0]])"
            ]
          },
          "metadata": {},
          "execution_count": 124
        }
      ]
    },
    {
      "cell_type": "code",
      "source": [
        "tmp = sparse.csr_matrix(([1, 4, 1, 4, 1, 4], ([0, 0, 1, 1, 2, 2], [0, 2, 0, 2, 0, 2])), shape=(3, 4)).toarray()\n",
        "tmp"
      ],
      "metadata": {
        "colab": {
          "base_uri": "https://localhost:8080/"
        },
        "id": "9POUwrVCxtHx",
        "outputId": "a96a0c2e-acba-4f1d-c144-4f3a9fc7b1a2"
      },
      "execution_count": 125,
      "outputs": [
        {
          "output_type": "execute_result",
          "data": {
            "text/plain": [
              "array([[1, 0, 4, 0],\n",
              "       [1, 0, 4, 0],\n",
              "       [1, 0, 4, 0]])"
            ]
          },
          "metadata": {},
          "execution_count": 125
        }
      ]
    }
  ]
}